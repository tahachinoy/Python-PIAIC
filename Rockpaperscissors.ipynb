{
  "nbformat": 4,
  "nbformat_minor": 0,
  "metadata": {
    "colab": {
      "provenance": [],
      "authorship_tag": "ABX9TyPnFsSZ6Uity5/nH1aM1CUK",
      "include_colab_link": true
    },
    "kernelspec": {
      "name": "python3",
      "display_name": "Python 3"
    },
    "language_info": {
      "name": "python"
    }
  },
  "cells": [
    {
      "cell_type": "markdown",
      "metadata": {
        "id": "view-in-github",
        "colab_type": "text"
      },
      "source": [
        "<a href=\"https://colab.research.google.com/github/tahachinoy/Python-PIAIC/blob/main/Rockpaperscissors.ipynb\" target=\"_parent\"><img src=\"https://colab.research.google.com/assets/colab-badge.svg\" alt=\"Open In Colab\"/></a>"
      ]
    },
    {
      "cell_type": "code",
      "execution_count": 5,
      "metadata": {
        "colab": {
          "base_uri": "https://localhost:8080/"
        },
        "id": "cUFiPndH0nOC",
        "outputId": "fd39c1d0-9d6f-471d-a7ab-47abb917aca9"
      },
      "outputs": [
        {
          "output_type": "stream",
          "name": "stdout",
          "text": [
            "What's your choice? 'r' for rock, 'p' for paper, 's' for scissors\n",
            "r\n",
            "You won!\n"
          ]
        }
      ],
      "source": [
        "import random\n",
        "\n",
        "def play():\n",
        "  user = input(\"What's your choice? 'r' for rock, 'p' for paper, 's' for scissors\\n\")\n",
        "  computer = random.choice(['r', 'p', 's'])\n",
        "\n",
        "  if user == computer:\n",
        "    return 'It\\'s a tie'\n",
        "\n",
        "  # r > s, s > p, p > r\n",
        "  if is_win(user, computer):\n",
        "    return 'You won!'\n",
        "  return 'You lost!'\n",
        "\n",
        "def is_win(player, opponent):\n",
        " # return true if player wins\n",
        "   # r > s, s > p, p > r\n",
        "  if (player == 'r' and opponent == 's') or (player == 's' and opponent == 'p') \\\n",
        "  or (player == 'p' and opponent == 'r'):\n",
        "    return True\n",
        "\n",
        "print(play())"
      ]
    }
  ]
}