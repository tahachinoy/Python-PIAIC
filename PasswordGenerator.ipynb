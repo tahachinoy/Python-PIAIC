{
  "nbformat": 4,
  "nbformat_minor": 0,
  "metadata": {
    "colab": {
      "provenance": [],
      "authorship_tag": "ABX9TyOmeSeEIJmOPXAu4cqjTgpY",
      "include_colab_link": true
    },
    "kernelspec": {
      "name": "python3",
      "display_name": "Python 3"
    },
    "language_info": {
      "name": "python"
    }
  },
  "cells": [
    {
      "cell_type": "markdown",
      "metadata": {
        "id": "view-in-github",
        "colab_type": "text"
      },
      "source": [
        "<a href=\"https://colab.research.google.com/github/tahachinoy/Python-PIAIC/blob/main/PasswordGenerator.ipynb\" target=\"_parent\"><img src=\"https://colab.research.google.com/assets/colab-badge.svg\" alt=\"Open In Colab\"/></a>"
      ]
    },
    {
      "cell_type": "code",
      "execution_count": 2,
      "metadata": {
        "colab": {
          "base_uri": "https://localhost:8080/"
        },
        "id": "Pyz-TSuVho04",
        "outputId": "90e03380-047c-4370-a8c7-338709348ffa"
      },
      "outputs": [
        {
          "output_type": "stream",
          "name": "stdout",
          "text": [
            "Welcome to your password generator\n",
            "Amount of passwords to generate: 1\n",
            "Input your password length: 5\n",
            "\n",
            "here are your passwords: \n",
            "i9O%9\n"
          ]
        }
      ],
      "source": [
        "import random\n",
        "\n",
        "print('Welcome to your password generator')\n",
        "\n",
        "chars = 'abcdefghijklmnopqrstuvwxyzABCDEFGHIJKLMNOPQRSTUVWXYZ!@#$%^&*()1234567890'\n",
        "\n",
        "number = input('Amount of passwords to generate: ')\n",
        "number = int(number)\n",
        "\n",
        "length = input('Input your password length: ')\n",
        "length = int(length)\n",
        "\n",
        "print('\\nhere are your passwords: ')\n",
        "\n",
        "for passwords in range(number):\n",
        "    passwords = ''\n",
        "    for c in range(length):\n",
        "        passwords += random.choice(chars)\n",
        "    print(passwords)\n"
      ]
    }
  ]
}