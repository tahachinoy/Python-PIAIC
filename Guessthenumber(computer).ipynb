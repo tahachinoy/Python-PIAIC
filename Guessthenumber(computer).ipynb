{
  "nbformat": 4,
  "nbformat_minor": 0,
  "metadata": {
    "colab": {
      "provenance": [],
      "authorship_tag": "ABX9TyNHcFcipDrRm7YEJasZbqxh",
      "include_colab_link": true
    },
    "kernelspec": {
      "name": "python3",
      "display_name": "Python 3"
    },
    "language_info": {
      "name": "python"
    }
  },
  "cells": [
    {
      "cell_type": "markdown",
      "metadata": {
        "id": "view-in-github",
        "colab_type": "text"
      },
      "source": [
        "<a href=\"https://colab.research.google.com/github/tahachinoy/Python-PIAIC/blob/main/Guessthenumber(computer).ipynb\" target=\"_parent\"><img src=\"https://colab.research.google.com/assets/colab-badge.svg\" alt=\"Open In Colab\"/></a>"
      ]
    },
    {
      "cell_type": "code",
      "source": [
        "import random\n",
        "\n",
        "def guess(x):\n",
        "    random_number = random.randint(1, x)\n",
        "    guess = 0\n",
        "    while guess != random_number:\n",
        "        guess = int(input(f'Guess a number between 1 and {x}: '))\n",
        "        if guess < random_number:\n",
        "            print('Sorry, guess again. Too low.')\n",
        "        elif guess > random_number:\n",
        "            print('Sorry, guess again. Too high.')\n",
        "\n",
        "    print(f'Yay, congrats. You have guessed the number {random_number} correctly!!')"
      ],
      "metadata": {
        "id": "AM3GicyfY4gb"
      },
      "execution_count": null,
      "outputs": []
    },
    {
      "cell_type": "code",
      "source": [
        "guess(10)"
      ],
      "metadata": {
        "colab": {
          "base_uri": "https://localhost:8080/"
        },
        "id": "Y7JTTVLdZXFZ",
        "outputId": "59d82863-a87c-4d25-e842-5c48fdd8fdd4"
      },
      "execution_count": null,
      "outputs": [
        {
          "output_type": "stream",
          "name": "stdout",
          "text": [
            "Guess a number between 1 and 10: 3\n",
            "Sorry, guess again. Too low.\n",
            "Guess a number between 1 and 10: 4\n",
            "Sorry, guess again. Too low.\n",
            "Guess a number between 1 and 10: 5\n",
            "Sorry, guess again. Too low.\n",
            "Guess a number between 1 and 10: 8\n",
            "Yay, congrats. You have guessed the number 8 correctly!!\n"
          ]
        }
      ]
    }
  ]
}